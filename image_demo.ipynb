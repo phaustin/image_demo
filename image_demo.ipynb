{
 "cells": [
  {
   "cell_type": "markdown",
   "metadata": {},
   "source": [
    "# Arrays as images, images as arrays\n",
    "\n",
    "\n",
    "You can consider arrays as images, and images as arrays.\n",
    "\n",
    "We start off with our usual imports:"
   ]
  },
  {
   "cell_type": "code",
   "execution_count": 1,
   "metadata": {},
   "outputs": [],
   "source": [
    "import numpy as np\n",
    "import matplotlib.pyplot as plt"
   ]
  },
  {
   "cell_type": "markdown",
   "metadata": {},
   "source": [
    "Let's make an array of numbers between 0 through 99:"
   ]
  },
  {
   "cell_type": "code",
   "execution_count": 2,
   "metadata": {},
   "outputs": [
    {
     "name": "stdout",
     "output_type": "stream",
     "text": [
      "[[ 0  0  0  0  0  0  0  0]\n",
      " [ 0  0  0  9 99 99 94  0]\n",
      " [ 0  0  0 25 99 99 79  0]\n",
      " [ 0  0  0  0  0  0  0  0]\n",
      " [ 0  0  0 56 99 99 49  0]\n",
      " [ 0  0  0 73 99 99 31  0]\n",
      " [ 0  0  0 91 99 99 13  0]\n",
      " [ 0  0  9 99 99 94  0  0]\n",
      " [ 0  0 27 99 99 77  0  0]\n",
      " [ 0  0 45 99 99 59  0  0]\n",
      " [ 0  0 63 99 99 42  0  0]\n",
      " [ 0  0 80 99 99 24  0  0]\n",
      " [ 0  1 96 99 99  6  0  0]\n",
      " [ 0 16 99 99 88  0  0  0]\n",
      " [ 0  0  0  0  0  0  0  0]]\n"
     ]
    }
   ],
   "source": [
    "an_array = np.array([[ 0,  0,  0,  0,  0,  0,  0,  0],\n",
    "                     [ 0,  0,  0,  9, 99, 99, 94,  0],\n",
    "                     [ 0,  0,  0, 25, 99, 99, 79,  0],\n",
    "                     [ 0,  0,  0,  0,  0,  0,  0,  0],\n",
    "                     [ 0,  0,  0, 56, 99, 99, 49,  0],\n",
    "                     [ 0,  0,  0, 73, 99, 99, 31,  0],\n",
    "                     [ 0,  0,  0, 91, 99, 99, 13,  0],\n",
    "                     [ 0,  0,  9, 99, 99, 94,  0,  0],\n",
    "                     [ 0,  0, 27, 99, 99, 77,  0,  0],\n",
    "                     [ 0,  0, 45, 99, 99, 59,  0,  0],\n",
    "                     [ 0,  0, 63, 99, 99, 42,  0,  0],\n",
    "                     [ 0,  0, 80, 99, 99, 24,  0,  0],\n",
    "                     [ 0,  1, 96, 99, 99,  6,  0,  0],\n",
    "                     [ 0, 16, 99, 99, 88,  0,  0,  0],\n",
    "                     [ 0,  0,  0,  0,  0,  0,  0,  0]])\n",
    "print(an_array)"
   ]
  },
  {
   "cell_type": "markdown",
   "metadata": {},
   "source": [
    "In fact this array represents a monochrome picture of a letter.\n",
    "\n",
    "We can show arrays as images using the ``plt.imshow`` command from\n",
    "matplotlib_. Here is the default output:"
   ]
  },
  {
   "cell_type": "code",
   "execution_count": 3,
   "metadata": {},
   "outputs": [
    {
     "data": {
      "image/png": "[encoded data removed]",
      "text/plain": [
       "<Figure size 432x288 with 1 Axes>"
      ]
     },
     "metadata": {
      "needs_background": "light"
     },
     "output_type": "display_data"
    }
   ],
   "source": [
    "plt.imshow(an_array);"
   ]
  },
  {
   "cell_type": "markdown",
   "metadata": {},
   "source": [
    "If you have a version of matplotlib older than version 2.0, this image will\n",
    "look rather blurry. This is because matplotlib is drawing an image with many\n",
    "more pixels than the array has values. For the pixels in-between array values,\n",
    "older matplotlib has a default of using `linear interpolation`_ to estimate a\n",
    "good pixel value. We can turn off this blurring effect by using `nearest\n",
    "neighbor interpolation`_ instead of linear interpolation:"
   ]
  },
  {
   "cell_type": "code",
   "execution_count": 4,
   "metadata": {},
   "outputs": [
    {
     "data": {
      "image/png": "[encoded data removed]",
      "text/plain": [
       "<Figure size 432x288 with 1 Axes>"
      ]
     },
     "metadata": {
      "needs_background": "light"
     },
     "output_type": "display_data"
    }
   ],
   "source": [
    "plt.imshow(an_array, interpolation='nearest');"
   ]
  },
  {
   "cell_type": "markdown",
   "metadata": {},
   "source": [
    "``nearest`` interpolation is the default value for matplotlib 2.0 and later.\n",
    "If you have an older matplotllib and you'd like ``nearest`` interpolation to\n",
    "be the default for the current session, use:"
   ]
  },
  {
   "cell_type": "code",
   "execution_count": 5,
   "metadata": {},
   "outputs": [],
   "source": [
    "# Set nearest neighbor interpolation by default\n",
    "plt.rcParams['image.interpolation'] = 'nearest'"
   ]
  },
  {
   "cell_type": "markdown",
   "metadata": {},
   "source": [
    "The image is weirdly colorful. That is because matplotlib is using the default\n",
    "*colormap*. A colormap is a mapping from values in the array to colors. In\n",
    "matplotlib < 2.0 the default colormap is called ``jet`` and maps low numbers\n",
    "in the image (0 in our case) to blue, and high numbers (99 in our case) to\n",
    "red. For matplotlib version 2.0 and above the default colormap is called\n",
    "``viridis``.  ``viridis`` maps low numbers to purple and high numbers to\n",
    "yellow."
   ]
  },
  {
   "cell_type": "markdown",
   "metadata": {},
   "source": [
    "We can see the relationship of the numbers to the colors by asking matplotlib\n",
    "to show the colormap:"
   ]
  },
  {
   "cell_type": "code",
   "execution_count": 6,
   "metadata": {},
   "outputs": [
    {
     "data": {
      "text/plain": [
       "<matplotlib.colorbar.Colorbar at 0x7f9520286610>"
      ]
     },
     "execution_count": 6,
     "metadata": {},
     "output_type": "execute_result"
    },
    {
     "data": {
      "image/png": "[encoded data removed]",
      "text/plain": [
       "<Figure size 432x288 with 2 Axes>"
      ]
     },
     "metadata": {
      "needs_background": "light"
     },
     "output_type": "display_data"
    }
   ],
   "source": [
    "# Nearest interpolation is now the default\n",
    "plt.imshow(an_array)\n",
    "plt.colorbar()"
   ]
  },
  {
   "cell_type": "markdown",
   "metadata": {},
   "source": [
    "In our case, our image would make more sense as grayscale, so we use the\n",
    "``gray`` colormap, like this:"
   ]
  },
  {
   "cell_type": "code",
   "execution_count": 7,
   "metadata": {},
   "outputs": [
    {
     "data": {
      "text/plain": [
       "<matplotlib.colorbar.Colorbar at 0x7f950025c910>"
      ]
     },
     "execution_count": 7,
     "metadata": {},
     "output_type": "execute_result"
    },
    {
     "data": {
      "image/png": "[encoded data removed]",
      "text/plain": [
       "<Figure size 432x288 with 2 Axes>"
      ]
     },
     "metadata": {
      "needs_background": "light"
     },
     "output_type": "display_data"
    }
   ],
   "source": [
    "plt.imshow(an_array, cmap='gray')\n",
    "plt.colorbar()"
   ]
  },
  {
   "cell_type": "markdown",
   "metadata": {},
   "source": [
    "A grayscale image is an array containing numbers giving the pixel intensity\n",
    "values - in our case between 0 and 99.\n",
    "\n",
    "Here we set ``gray`` to the default colormap for the rest of our plots:\n",
    "\n",
    ".. nbplot::"
   ]
  },
  {
   "cell_type": "code",
   "execution_count": 8,
   "metadata": {},
   "outputs": [],
   "source": [
    "# Set 'gray' as the default colormap\n",
    "plt.rcParams['image.cmap'] = 'gray'"
   ]
  },
  {
   "cell_type": "markdown",
   "metadata": {},
   "source": [
    "We can also plot lines in matplotlib. For example, we might want to plot the\n",
    "values in row 8 from this array.  Because Python indices start at 0, this is\n",
    "the 9th row of the array."
   ]
  },
  {
   "cell_type": "code",
   "execution_count": 9,
   "metadata": {},
   "outputs": [
    {
     "data": {
      "text/plain": [
       "[<matplotlib.lines.Line2D at 0x7f95418efc10>]"
      ]
     },
     "execution_count": 9,
     "metadata": {},
     "output_type": "execute_result"
    },
    {
     "data": {
      "image/png": "[encoded data removed]",
      "text/plain": [
       "<Figure size 432x288 with 1 Axes>"
      ]
     },
     "metadata": {
      "needs_background": "light"
     },
     "output_type": "display_data"
    }
   ],
   "source": [
    "plt.plot(an_array[8])"
   ]
  },
  {
   "cell_type": "markdown",
   "metadata": {},
   "source": [
    "The x axis is the position in the array (0 through 7) and the y axis is the\n",
    "value of the array row at that position.\n",
    "\n",
    "The plot shows us the 0 values at the edges of the bar of the \"i\", an the ramp\n",
    "up to the peak at the middle of the bar of the \"i\", in columns number 3 and 4.\n",
    "\n",
    "A transpose in numpy uses the ``.T`` method on the array. This has the effect\n",
    "of flipping the rows and columns (in 2D):"
   ]
  },
  {
   "cell_type": "code",
   "execution_count": 10,
   "metadata": {},
   "outputs": [
    {
     "data": {
      "text/plain": [
       "array([[ 0,  0,  0,  0,  0,  0,  0,  0,  0,  0,  0,  0,  0,  0,  0],\n",
       "       [ 0,  0,  0,  0,  0,  0,  0,  0,  0,  0,  0,  0,  1, 16,  0],\n",
       "       [ 0,  0,  0,  0,  0,  0,  0,  9, 27, 45, 63, 80, 96, 99,  0],\n",
       "       [ 0,  9, 25,  0, 56, 73, 91, 99, 99, 99, 99, 99, 99, 99,  0],\n",
       "       [ 0, 99, 99,  0, 99, 99, 99, 99, 99, 99, 99, 99, 99, 88,  0],\n",
       "       [ 0, 99, 99,  0, 99, 99, 99, 94, 77, 59, 42, 24,  6,  0,  0],\n",
       "       [ 0, 94, 79,  0, 49, 31, 13,  0,  0,  0,  0,  0,  0,  0,  0],\n",
       "       [ 0,  0,  0,  0,  0,  0,  0,  0,  0,  0,  0,  0,  0,  0,  0]])"
      ]
     },
     "execution_count": 10,
     "metadata": {},
     "output_type": "execute_result"
    }
   ],
   "source": [
    "an_array.T"
   ]
  },
  {
   "cell_type": "code",
   "execution_count": 11,
   "metadata": {},
   "outputs": [
    {
     "data": {
      "text/plain": [
       "<matplotlib.image.AxesImage at 0x7f95503f0650>"
      ]
     },
     "execution_count": 11,
     "metadata": {},
     "output_type": "execute_result"
    },
    {
     "data": {
      "image/png": "[encoded data removed]",
      "text/plain": [
       "<Figure size 432x288 with 1 Axes>"
      ]
     },
     "metadata": {
      "needs_background": "light"
     },
     "output_type": "display_data"
    }
   ],
   "source": [
    "# Defaults of nearest interpolation and gray colormap\n",
    "plt.imshow(an_array.T)"
   ]
  },
  {
   "cell_type": "markdown",
   "metadata": {},
   "source": [
    "We can also reshape the original array to a 1D array, by stacking all the rows\n",
    "end to end:\n",
    "\n",
    ".. nbplot::"
   ]
  },
  {
   "cell_type": "code",
   "execution_count": 12,
   "metadata": {},
   "outputs": [
    {
     "data": {
      "text/plain": [
       "array([ 0,  0,  0,  0,  0,  0,  0,  0,  0,  0,  0,  9, 99, 99, 94,  0,  0,\n",
       "        0,  0, 25, 99, 99, 79,  0,  0,  0,  0,  0,  0,  0,  0,  0,  0,  0,\n",
       "        0, 56, 99, 99, 49,  0,  0,  0,  0, 73, 99, 99, 31,  0,  0,  0,  0,\n",
       "       91, 99, 99, 13,  0,  0,  0,  9, 99, 99, 94,  0,  0,  0,  0, 27, 99,\n",
       "       99, 77,  0,  0,  0,  0, 45, 99, 99, 59,  0,  0,  0,  0, 63, 99, 99,\n",
       "       42,  0,  0,  0,  0, 80, 99, 99, 24,  0,  0,  0,  1, 96, 99, 99,  6,\n",
       "        0,  0,  0, 16, 99, 99, 88,  0,  0,  0,  0,  0,  0,  0,  0,  0,  0,\n",
       "        0])"
      ]
     },
     "execution_count": 12,
     "metadata": {},
     "output_type": "execute_result"
    }
   ],
   "source": [
    "old_shape = an_array.shape\n",
    "a_1d_array = np.reshape(an_array, old_shape[0] * old_shape[1])\n",
    "a_1d_array"
   ]
  },
  {
   "cell_type": "code",
   "execution_count": 13,
   "metadata": {},
   "outputs": [
    {
     "data": {
      "text/plain": [
       "(120,)"
      ]
     },
     "execution_count": 13,
     "metadata": {},
     "output_type": "execute_result"
    }
   ],
   "source": [
    "a_1d_array.shape"
   ]
  },
  {
   "cell_type": "markdown",
   "metadata": {},
   "source": [
    "Reshaping the array to one dimension is a common operation, so there is a\n",
    "separate numpy command for that, ``np.ravel``:"
   ]
  },
  {
   "cell_type": "code",
   "execution_count": 14,
   "metadata": {},
   "outputs": [
    {
     "data": {
      "text/plain": [
       "array([ 0,  0,  0,  0,  0,  0,  0,  0,  0,  0,  0,  9, 99, 99, 94,  0,  0,\n",
       "        0,  0, 25, 99, 99, 79,  0,  0,  0,  0,  0,  0,  0,  0,  0,  0,  0,\n",
       "        0, 56, 99, 99, 49,  0,  0,  0,  0, 73, 99, 99, 31,  0,  0,  0,  0,\n",
       "       91, 99, 99, 13,  0,  0,  0,  9, 99, 99, 94,  0,  0,  0,  0, 27, 99,\n",
       "       99, 77,  0,  0,  0,  0, 45, 99, 99, 59,  0,  0,  0,  0, 63, 99, 99,\n",
       "       42,  0,  0,  0,  0, 80, 99, 99, 24,  0,  0,  0,  1, 96, 99, 99,  6,\n",
       "        0,  0,  0, 16, 99, 99, 88,  0,  0,  0,  0,  0,  0,  0,  0,  0,  0,\n",
       "        0])"
      ]
     },
     "execution_count": 14,
     "metadata": {},
     "output_type": "execute_result"
    }
   ],
   "source": [
    "np.ravel(an_array)"
   ]
  },
  {
   "cell_type": "markdown",
   "metadata": {},
   "source": [
    "One use of the 1D version of the array, is for making a histogram of the\n",
    "distribution of values in the array:"
   ]
  },
  {
   "cell_type": "code",
   "execution_count": 15,
   "metadata": {},
   "outputs": [
    {
     "data": {
      "text/plain": [
       "(array([75.,  2.,  3.,  1.,  3.,  2.,  1.,  3.,  2., 28.]),\n",
       " array([ 0. ,  9.9, 19.8, 29.7, 39.6, 49.5, 59.4, 69.3, 79.2, 89.1, 99. ]),\n",
       " <a list of 10 Patch objects>)"
      ]
     },
     "execution_count": 15,
     "metadata": {},
     "output_type": "execute_result"
    },
    {
     "data": {
      "image/png": "[encoded data removed]",
      "text/plain": [
       "<Figure size 432x288 with 1 Axes>"
      ]
     },
     "metadata": {
      "needs_background": "light"
     },
     "output_type": "display_data"
    }
   ],
   "source": [
    "plt.hist(a_1d_array)"
   ]
  },
  {
   "cell_type": "markdown",
   "metadata": {},
   "source": [
    "By default, the ``plt.hist`` function uses 50 bins, but you can specify how\n",
    "many bins you want with the ``bins`` keyword:"
   ]
  },
  {
   "cell_type": "code",
   "execution_count": 16,
   "metadata": {},
   "outputs": [
    {
     "data": {
      "text/plain": [
       "(array([72.,  0.,  0.,  0.,  1.,  0.,  2.,  0.,  0.,  1.,  0.,  0.,  1.,\n",
       "         0.,  0.,  0.,  0.,  0.,  2.,  0.,  1.,  0.,  0.,  1.,  0.,  0.,\n",
       "         0.,  0.,  0.,  0.,  0.,  1.,  0.,  0.,  1.,  0.,  0.,  1.,  0.,\n",
       "         0.,  0.,  0.,  1.,  0.,  1.,  0.,  0.,  1.,  0.,  0.,  0.,  0.,\n",
       "         0.,  0.,  0.,  1.,  0.,  0.,  1.,  1.,  1.,  0.,  0.,  0.,  0.,\n",
       "         0.,  1.,  0.,  1.,  0.,  0.,  2.,  1.,  0., 24.]),\n",
       " array([ 0.  ,  1.32,  2.64,  3.96,  5.28,  6.6 ,  7.92,  9.24, 10.56,\n",
       "        11.88, 13.2 , 14.52, 15.84, 17.16, 18.48, 19.8 , 21.12, 22.44,\n",
       "        23.76, 25.08, 26.4 , 27.72, 29.04, 30.36, 31.68, 33.  , 34.32,\n",
       "        35.64, 36.96, 38.28, 39.6 , 40.92, 42.24, 43.56, 44.88, 46.2 ,\n",
       "        47.52, 48.84, 50.16, 51.48, 52.8 , 54.12, 55.44, 56.76, 58.08,\n",
       "        59.4 , 60.72, 62.04, 63.36, 64.68, 66.  , 67.32, 68.64, 69.96,\n",
       "        71.28, 72.6 , 73.92, 75.24, 76.56, 77.88, 79.2 , 80.52, 81.84,\n",
       "        83.16, 84.48, 85.8 , 87.12, 88.44, 89.76, 91.08, 92.4 , 93.72,\n",
       "        95.04, 96.36, 97.68, 99.  ]),\n",
       " <a list of 75 Patch objects>)"
      ]
     },
     "execution_count": 16,
     "metadata": {},
     "output_type": "execute_result"
    },
    {
     "data": {
      "image/png": "[encoded data removed]",
      "text/plain": [
       "<Figure size 432x288 with 1 Axes>"
      ]
     },
     "metadata": {
      "needs_background": "light"
     },
     "output_type": "display_data"
    }
   ],
   "source": [
    "plt.hist(a_1d_array, bins=75)"
   ]
  },
  {
   "cell_type": "markdown",
   "metadata": {},
   "source": [
    "As you can imagine, it's not hard to go back to the 2D shape, by splitting the\n",
    "1D array back into 15 rows of 8 values each (and therefore 8 columns):"
   ]
  },
  {
   "cell_type": "code",
   "execution_count": 17,
   "metadata": {},
   "outputs": [],
   "source": [
    "array_back = np.reshape(a_1d_array, (15, 8))"
   ]
  },
  {
   "cell_type": "markdown",
   "metadata": {},
   "source": [
    "In numpy, basic operations like multiplication, addition, comparison, are\n",
    "always elementwise. For example, this multiplies every array value by 10:"
   ]
  },
  {
   "cell_type": "code",
   "execution_count": 18,
   "metadata": {},
   "outputs": [
    {
     "data": {
      "text/plain": [
       "array([[  0,   0,   0,   0,   0,   0,   0,   0],\n",
       "       [  0,   0,   0,  90, 990, 990, 940,   0],\n",
       "       [  0,   0,   0, 250, 990, 990, 790,   0],\n",
       "       [  0,   0,   0,   0,   0,   0,   0,   0],\n",
       "       [  0,   0,   0, 560, 990, 990, 490,   0],\n",
       "       [  0,   0,   0, 730, 990, 990, 310,   0],\n",
       "       [  0,   0,   0, 910, 990, 990, 130,   0],\n",
       "       [  0,   0,  90, 990, 990, 940,   0,   0],\n",
       "       [  0,   0, 270, 990, 990, 770,   0,   0],\n",
       "       [  0,   0, 450, 990, 990, 590,   0,   0],\n",
       "       [  0,   0, 630, 990, 990, 420,   0,   0],\n",
       "       [  0,   0, 800, 990, 990, 240,   0,   0],\n",
       "       [  0,  10, 960, 990, 990,  60,   0,   0],\n",
       "       [  0, 160, 990, 990, 880,   0,   0,   0],\n",
       "       [  0,   0,   0,   0,   0,   0,   0,   0]])"
      ]
     },
     "execution_count": 18,
     "metadata": {},
     "output_type": "execute_result"
    }
   ],
   "source": [
    "an_array * 10"
   ]
  },
  {
   "cell_type": "markdown",
   "metadata": {},
   "source": [
    "Comparison is also elementwise. For example, this gives True for every value >\n",
    "50, and False for every value <= 50:"
   ]
  },
  {
   "cell_type": "code",
   "execution_count": 19,
   "metadata": {},
   "outputs": [
    {
     "data": {
      "text/plain": [
       "array([[False, False, False, False, False, False, False, False],\n",
       "       [False, False, False, False,  True,  True,  True, False],\n",
       "       [False, False, False, False,  True,  True,  True, False],\n",
       "       [False, False, False, False, False, False, False, False],\n",
       "       [False, False, False,  True,  True,  True, False, False],\n",
       "       [False, False, False,  True,  True,  True, False, False],\n",
       "       [False, False, False,  True,  True,  True, False, False],\n",
       "       [False, False, False,  True,  True,  True, False, False],\n",
       "       [False, False, False,  True,  True,  True, False, False],\n",
       "       [False, False, False,  True,  True,  True, False, False],\n",
       "       [False, False,  True,  True,  True, False, False, False],\n",
       "       [False, False,  True,  True,  True, False, False, False],\n",
       "       [False, False,  True,  True,  True, False, False, False],\n",
       "       [False, False,  True,  True,  True, False, False, False],\n",
       "       [False, False, False, False, False, False, False, False]])"
      ]
     },
     "execution_count": 19,
     "metadata": {},
     "output_type": "execute_result"
    }
   ],
   "source": [
    "an_array > 50"
   ]
  },
  {
   "cell_type": "markdown",
   "metadata": {},
   "source": [
    "Matplotlib will treat False as 0 and True as 1, so this is one way of\n",
    "binarizing the image at a threshold (of 50 in this case):"
   ]
  },
  {
   "cell_type": "code",
   "execution_count": 20,
   "metadata": {},
   "outputs": [
    {
     "data": {
      "image/png": "[encoded data removed]",
      "text/plain": [
       "<Figure size 432x288 with 1 Axes>"
      ]
     },
     "metadata": {
      "needs_background": "light"
     },
     "output_type": "display_data"
    }
   ],
   "source": [
    "plt.imshow(an_array > 50);"
   ]
  },
  {
   "cell_type": "markdown",
   "metadata": {},
   "source": [
    "We can slice arrays as we slice strings or lists. The difference for arrays is\n",
    "that we can slice in any or all dimensions at the same time.  For example, to\n",
    "get the dot of the \"i\" it looks (from the numbers at the sides of the ploat)\n",
    "that we want to the top 4 rows, and the last 5 columns:"
   ]
  },
  {
   "cell_type": "code",
   "execution_count": 23,
   "metadata": {},
   "outputs": [
    {
     "data": {
      "text/plain": [
       "array([[ 0,  0,  0,  0,  0],\n",
       "       [ 9, 99, 99, 94,  0],\n",
       "       [25, 99, 99, 79,  0],\n",
       "       [ 0,  0,  0,  0,  0]])"
      ]
     },
     "execution_count": 23,
     "metadata": {},
     "output_type": "execute_result"
    }
   ],
   "source": [
    "an_array[0:4, 3:]"
   ]
  },
  {
   "cell_type": "code",
   "execution_count": 24,
   "metadata": {},
   "outputs": [
    {
     "data": {
      "image/png": "[encoded data removed]",
      "text/plain": [
       "<Figure size 432x288 with 1 Axes>"
      ]
     },
     "metadata": {
      "needs_background": "light"
     },
     "output_type": "display_data"
    }
   ],
   "source": [
    "plt.imshow(an_array[0:4, 3:]);"
   ]
  }
 ],
 "metadata": {
  "jupyter": {
   "jupytext": {
    "cell_metadata_filter": "-all",
    "formats": "ipynb,md:myst",
    "text_representation": {
     "extension": ".md",
     "format_name": "myst",
     "format_version": "1.2",
     "jupytext_version": "1.4.2"
    }
   },
   "kernelspec": {
    "display_name": "Python 3",
    "language": "python",
    "name": "python3"
   }
  },
  "jupytext": {
   "cell_metadata_filter": "all",
   "notebook_metadata_filter": "all,-toc,-latex_envs,-language_info"
  },
  "kernelspec": {
   "display_name": "Python 3",
   "language": "python",
   "name": "python3"
  },
  "language_info": {
   "codemirror_mode": {
    "name": "ipython",
    "version": 3
   },
   "file_extension": ".py",
   "mimetype": "text/x-python",
   "name": "python",
   "nbconvert_exporter": "python",
   "pygments_lexer": "ipython3",
   "version": "3.7.6"
  }
 },
 "nbformat": 4,
 "nbformat_minor": 4
}
